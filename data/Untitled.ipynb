{
 "cells": [
  {
   "cell_type": "code",
   "execution_count": 73,
   "metadata": {
    "collapsed": false
   },
   "outputs": [],
   "source": [
    "import json\n",
    "import object_storage\n",
    "import re\n",
    "from splitstream import splitfile"
   ]
  },
  {
   "cell_type": "code",
   "execution_count": 74,
   "metadata": {
    "collapsed": false
   },
   "outputs": [],
   "source": [
    "sl_storage = object_storage.get_client('SLOS706633-2:SL706633',\n",
    "                                       'f918d1b607ff2a5ff8a4e09a0f916f7a9005b7f96398259476d658ad06359f79' ,\n",
    "                                       datacenter='sjc01')\n"
   ]
  },
  {
   "cell_type": "code",
   "execution_count": 103,
   "metadata": {
    "collapsed": false
   },
   "outputs": [],
   "source": [
    "def iterload(src):\n",
    "    buffer = \"\"\n",
    "    dec = json.JSONDecoder()\n",
    "    for chunk in src:         \n",
    "        buffer = buffer + chunk\n",
    "        while(True):\n",
    "            try:\n",
    "                r = dec.raw_decode(buffer)\n",
    "            except:\n",
    "                break\n",
    "            yield r[0]\n",
    "            buffer = buffer[r[1]:].strip(\" \\n\\r\\t\")"
   ]
  },
  {
   "cell_type": "code",
   "execution_count": 117,
   "metadata": {
    "collapsed": false
   },
   "outputs": [
    {
     "name": "stdout",
     "output_type": "stream",
     "text": [
      "body\t\tThe fact remains that Chavez does not understand economics. He's imposed [price controls](http://africa.reuters.com/odd/news/usnN30300735.html) and now even toilet paper is short. The government blames hoarding -- yeah, that's what happens when you impose price controls.\n",
      "\n",
      "The better way to help poor people is to **give them money**. If you're afraid they'll waste their money on drugs, give them **vouchers**. Further, Chavez [heavily subsidizes oil](http://www.nytimes.com/2007/10/30/world/americas/30venezuela.html?_r=1&amp;oref=slogin), which is actually costing enormous amounts of money.\n",
      "\n",
      "Chavez will never make any progress while he continues to work against economics.\n",
      "\n",
      "The \"ruling elites\" don't rule the country anymore. I'd be more worried about who is holding Chavez and his guys accountable!\n",
      "\n",
      "By the way, I'm a hardcore liberal, but I understand that economics and progressive policies can be consistent (Gravel understand s this as well -- vouchers for healthcare, taxes on gasoline, ect.)\n",
      "edited\t\tFalse\n",
      "subreddit_id\t\tt5_2cneq\n",
      "author_flair_css_class\t\tNone\n",
      "author\t\t[deleted]\n",
      "author_flair_text\t\tNone\n",
      "downs\t\t0\n",
      "created_utc\t\t1196467200\n",
      "archived\t\tTrue\n",
      "score_hidden\t\tFalse\n",
      "subreddit\t\tpolitics\n",
      "parent_id\t\tt1_c02kdcg\n",
      "distinguished\t\tNone\n",
      "score\t\t1\n",
      "retrieved_on\t\t1427421031\n",
      "controversiality\t\t0\n",
      "gilded\t\t0\n",
      "link_id\t\tt3_61tiq\n",
      "ups\t\t1\n",
      "id\t\tc02khd5\n",
      "name\t\tt1_c02khd5\n",
      "1\n"
     ]
    }
   ],
   "source": [
    "chunk_size = 512*1024\n",
    "count = 0\n",
    "rc = sl_storage['reddit2']\n",
    "for item in rc:\n",
    "    match = re.search('^2007', item.name)\n",
    "    if match:\n",
    "        for j in iterload(item.chunk_download(chunk_size)):\n",
    "            for key in j.keys():\n",
    "                print \"{0}\\t\\t{1}\".format(key,j[key])\n",
    "            count += 1\n",
    "            break\n",
    "        print count\n",
    "        break\n",
    "\n"
   ]
  },
  {
   "cell_type": "code",
   "execution_count": null,
   "metadata": {
    "collapsed": false
   },
   "outputs": [],
   "source": [
    "a = None\n",
    "with open (\"/Volumes/Drobo1/reddit_data/reddit_data/2007/RC_2007-10\", \"r\") as reddit:\n",
    "    for line in reddit:\n",
    "        a = json.loads(line)\n",
    "        print a\n",
    "        break"
   ]
  },
  {
   "cell_type": "code",
   "execution_count": null,
   "metadata": {
    "collapsed": false
   },
   "outputs": [],
   "source": [
    "a"
   ]
  },
  {
   "cell_type": "code",
   "execution_count": null,
   "metadata": {
    "collapsed": false
   },
   "outputs": [],
   "source": [
    "for field in a:\n",
    "    print field, a[field]"
   ]
  },
  {
   "cell_type": "code",
   "execution_count": null,
   "metadata": {
    "collapsed": true
   },
   "outputs": [],
   "source": []
  }
 ],
 "metadata": {
  "kernelspec": {
   "display_name": "Python 2",
   "language": "python",
   "name": "python2"
  },
  "language_info": {
   "codemirror_mode": {
    "name": "ipython",
    "version": 2
   },
   "file_extension": ".py",
   "mimetype": "text/x-python",
   "name": "python",
   "nbconvert_exporter": "python",
   "pygments_lexer": "ipython2",
   "version": "2.7.10"
  }
 },
 "nbformat": 4,
 "nbformat_minor": 0
}
