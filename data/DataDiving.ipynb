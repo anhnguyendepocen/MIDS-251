{
 "cells": [
  {
   "cell_type": "code",
   "execution_count": 108,
   "metadata": {
    "collapsed": true
   },
   "outputs": [],
   "source": [
    "%matplotlib inline\n",
    "\n",
    "import matplotlib.pyplot as plt\n",
    "from matplotlib.colors import ListedColormap\n",
    "import matplotlib.dates as mdates\n",
    "from matplotlib.ticker import AutoLocator\n",
    "\n",
    "import numpy as np\n",
    "\n",
    "from nltk.corpus import stopwords\n",
    "\n",
    "from collections import OrderedDict\n",
    "\n",
    "import re\n",
    "import glob\n",
    "from datetime import datetime, timedelta\n",
    "import pickle\n",
    "import cPickle"
   ]
  },
  {
   "cell_type": "code",
   "execution_count": 2,
   "metadata": {
    "collapsed": true
   },
   "outputs": [],
   "source": [
    "auth_tuple = re.compile(r'^\\(\\(([^,]*),([^,]*),([^\\)]*)\\),([0-9]*)')"
   ]
  },
  {
   "cell_type": "code",
   "execution_count": 3,
   "metadata": {
    "collapsed": false
   },
   "outputs": [],
   "source": [
    "year = \"2011\"\n",
    "fn = \"/Users/rcordell/Development/MIDS-251/data/{0}/authorperday_counts/part-0*\".format(year)\n",
    "part_files = glob.glob(fn)"
   ]
  },
  {
   "cell_type": "code",
   "execution_count": 4,
   "metadata": {
    "collapsed": false
   },
   "outputs": [
    {
     "data": {
      "text/plain": [
       "2119"
      ]
     },
     "execution_count": 4,
     "metadata": {},
     "output_type": "execute_result"
    }
   ],
   "source": [
    "len(part_files)"
   ]
  },
  {
   "cell_type": "code",
   "execution_count": null,
   "metadata": {
    "collapsed": false
   },
   "outputs": [],
   "source": [
    "# Postings counts only\n",
    "postings = {}\n",
    "hour = {}\n",
    "for f in part_files:\n",
    "    for line in open(f,\"r\"):\n",
    "        match = auth_tuple.match(line)\n",
    "        if match:\n",
    "            author = match.group(2)\n",
    "            subreddit = match.group(1)\n",
    "            dt = datetime.strptime(match.group(3).split('T')[0], '%Y-%m-%d')\n",
    "            count = int(match.group(4))\n",
    "            \n",
    "            # accumulate postings\n",
    "            if dt not in postings.keys():\n",
    "                postings[dt]=count\n",
    "            else:\n",
    "                postings[dt] += count\n",
    "\n"
   ]
  },
  {
   "cell_type": "code",
   "execution_count": 151,
   "metadata": {
    "collapsed": false
   },
   "outputs": [],
   "source": [
    "# save the postings\n",
    "fn = \"/Users/rcordell/Development/MIDS-251/data/{0}/postings.pkl\".format(year)\n",
    "of = open(fn, 'wb')\n",
    "cPickle.dump(postings, of, -1)\n",
    "of.close()"
   ]
  },
  {
   "cell_type": "code",
   "execution_count": 8,
   "metadata": {
    "collapsed": false
   },
   "outputs": [],
   "source": [
    "# load the postings if already saved\n",
    "fn = \"/Users/rcordell/Development/MIDS-251/data/{0}/postings.pkl\".format(year)\n",
    "with open(fn,'rn') as pkl_file:\n",
    "    postings = cPickle.load(pkl_file)"
   ]
  },
  {
   "cell_type": "code",
   "execution_count": null,
   "metadata": {
    "collapsed": false
   },
   "outputs": [],
   "source": [
    "# 2008-12-13T00:00:00.000-06:00\n",
    "postings = {}\n",
    "hour = {}\n",
    "for f in part_files:\n",
    "    for line in open(f,\"r\"):\n",
    "        match = auth_tuple.match(line)\n",
    "        if match:\n",
    "            author = match.group(2)\n",
    "            subreddit = match.group(1)\n",
    "            dt = datetime.strptime(match.group(3).split('T')[0], '%Y-%m-%d')\n",
    "            count = int(match.group(4))\n",
    "            if dt not in hour.keys():\n",
    "                hour[dt]={subreddit: {author: count}}\n",
    "            elif subreddit not in hour[dt].keys():\n",
    "                hour[dt][subreddit]= {author: count}\n",
    "            elif author not in hour[dt][subreddit]:\n",
    "                hour[dt][subreddit][author] = count\n",
    "            else:\n",
    "                hour[dt][subreddit][author] += count\n",
    "        "
   ]
  },
  {
   "cell_type": "code",
   "execution_count": null,
   "metadata": {
    "collapsed": false
   },
   "outputs": [],
   "source": [
    "#days = sorted(hour.keys())\n",
    "#days_plot = []\n",
    "#posts = []\n",
    "#for i, day in enumerate(days):\n",
    "#    posts_in_day = 0\n",
    "#    for sr in hour[day].keys():\n",
    "#        for a in hour[day][sr].keys():\n",
    "#            posts_in_day += hour[day][sr][a]\n",
    "#    posts.append(posts_in_day)\n",
    "#    days_plot.append(day)    "
   ]
  },
  {
   "cell_type": "code",
   "execution_count": 35,
   "metadata": {
    "collapsed": true
   },
   "outputs": [],
   "source": [
    "# calculate by day\n",
    "days = sorted(postings.keys())\n",
    "days_plot = []\n",
    "posts = []\n",
    "for i, day in enumerate(days):\n",
    "    posts.append(postings[day])\n",
    "    days_plot.append(day)"
   ]
  },
  {
   "cell_type": "code",
   "execution_count": 55,
   "metadata": {
    "collapsed": false
   },
   "outputs": [],
   "source": [
    "#>>> import datetime\n",
    "#>>> today = datetime.date.today()\n",
    "#>>> margin = datetime.timedelta(days = 3)\n",
    "\n",
    "#>>> today - margin <= datetime.date(2011, 1, 15) <= today + margin\n",
    "\n",
    "# calculate by month\n",
    "margin = timedelta(days = 30)\n",
    "start_date = datetime(2011, 6, 1)\n",
    "\n",
    "days = sorted(postings.keys())\n",
    "\n",
    "posts = []\n",
    "days_plot = []\n",
    "for day in days:\n",
    "    # pull out just one month of December\n",
    "    if (day.month in range(4,7)) & (day.year == 2011):\n",
    "        posts.append(postings[day])\n",
    "        days_plot.append(day)"
   ]
  },
  {
   "cell_type": "code",
   "execution_count": 54,
   "metadata": {
    "collapsed": false,
    "scrolled": false
   },
   "outputs": [
    {
     "data": {
      "image/png": "[encoded data removed]",
      "text/plain": [
       "<matplotlib.figure.Figure at 0x1088d5b90>"
      ]
     },
     "metadata": {},
     "output_type": "display_data"
    }
   ],
   "source": [
    "fig = plt.figure(figsize=(16,8))\n",
    "#fig, ax = plt.subplots()\n",
    "#fig_size = (16,8)\n",
    "p = plt.subplot(1,1,1)\n",
    "plt.title(\"Postings per day\")\n",
    "plt.gca().xaxis.set_major_formatter(mdates.DateFormatter('%B'))\n",
    "plt.gca().xaxis.set_major_locator(mdates.MonthLocator())\n",
    "plt.gca().xaxis.set_minor_locator(mdates.DayLocator())\n",
    "plt.plot(days_plot, posts)\n",
    "plt.gcf().autofmt_xdate()"
   ]
  },
  {
   "cell_type": "code",
   "execution_count": 56,
   "metadata": {
    "collapsed": false
   },
   "outputs": [],
   "source": [
    "word_tuple = re.compile(r'^\\(([0-9]*),([a-z]+)')"
   ]
  },
  {
   "cell_type": "code",
   "execution_count": 151,
   "metadata": {
    "collapsed": false
   },
   "outputs": [
    {
     "data": {
      "text/plain": [
       "1671"
      ]
     },
     "execution_count": 151,
     "metadata": {},
     "output_type": "execute_result"
    }
   ],
   "source": [
    "year = \"2014\"\n",
    "fn = \"/Users/rcordell/Development/MIDS-251/data/{0}/counts_filtered/part-0*\".format(year)\n",
    "part_files = glob.glob(fn)\n",
    "len(part_files)"
   ]
  },
  {
   "cell_type": "code",
   "execution_count": null,
   "metadata": {
    "collapsed": false
   },
   "outputs": [],
   "source": [
    "# Postings counts only\n",
    "words = {}\n",
    "stop = set(stopwords.words('english'))\n",
    "stop.add('deleted')\n",
    "for f in part_files:\n",
    "    for line in open(f,\"r\"):\n",
    "        match = word_tuple.match(line)\n",
    "        if match:\n",
    "            # match group 1 is the count, group 2 is the word\n",
    "            word = match.group(2)\n",
    "            count = match.group(1)\n",
    "            if (word not in stop):\n",
    "                if (word not in words):\n",
    "                    words[word]=int(count)\n",
    "                else:\n",
    "                    words[word] += int(count)\n",
    "                    \n",
    "words_sorted_by_freq = OrderedDict(sorted(words.items(), key=lambda x: int(x[1]), reverse=True))"
   ]
  },
  {
   "cell_type": "code",
   "execution_count": 150,
   "metadata": {
    "collapsed": false
   },
   "outputs": [
    {
     "data": {
      "image/png": "[encoded data removed]",
      "text/plain": [
       "<matplotlib.figure.Figure at 0x167a25990>"
      ]
     },
     "metadata": {},
     "output_type": "display_data"
    }
   ],
   "source": [
    "n = 70\n",
    "fig = plt.figure(figsize=(16,8))\n",
    "p = plt.subplot(1,1,1)\n",
    "the_words = words_sorted_by_freq.keys()[:n]\n",
    "the_counts = words_sorted_by_freq.values()[:n]\n",
    "\n",
    "# Plot histogram using matplotlib bar().\n",
    "indexes = np.arange(len(the_words))\n",
    "\n",
    "width = 1.0\n",
    "plt.bar(indexes, the_counts, width, color='green')\n",
    "plt.xticks(indexes + width * 0.5, the_words)\n",
    "p.set_xticklabels(the_words,rotation=90)\n",
    "plt.title(\"Top {0} Words in {1}\".format(n, year))\n",
    "plt.savefig(\"{0}_top70.png\".format(year))\n",
    "plt.show()"
   ]
  },
  {
   "cell_type": "code",
   "execution_count": null,
   "metadata": {
    "collapsed": true
   },
   "outputs": [],
   "source": [
    "plt.hist(gaussian_numbers)\n",
    "plt.title(\"Gaussian Histogram\")\n",
    "plt.xlabel(\"Value\")\n",
    "plt.ylabel(\"Frequency\")"
   ]
  }
 ],
 "metadata": {
  "kernelspec": {
   "display_name": "Python 2",
   "language": "python",
   "name": "python2"
  },
  "language_info": {
   "codemirror_mode": {
    "name": "ipython",
    "version": 2
   },
   "file_extension": ".py",
   "mimetype": "text/x-python",
   "name": "python",
   "nbconvert_exporter": "python",
   "pygments_lexer": "ipython2",
   "version": "2.7.11"
  }
 },
 "nbformat": 4,
 "nbformat_minor": 0
}
